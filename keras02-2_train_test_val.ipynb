{
 "cells": [
  {
   "cell_type": "code",
   "execution_count": 1,
   "metadata": {},
   "outputs": [],
   "source": [
    "#1. 데이터\n",
    "import numpy as np\n",
    "x_train = np.array([1,2,3,4,5,6,7,8,9,10])\n",
    "y_train = np.array([1,2,3,4,5,6,7,8,9,10])\n",
    "x_test= np.array([11,12,13,14,15,16,17,18,19,20])\n",
    "y_test = np.array([11,12,13,14,15,16,17,18,19,20])\n",
    "x_val = np.array([101, 102, 103, 104, 105])\n",
    "y_val = np.array([101, 102, 103, 104, 105])"
   ]
  },
  {
   "cell_type": "code",
   "execution_count": null,
   "metadata": {},
   "outputs": [],
   "source": [
    "#2. 모델구성\n",
    "from keras.models import Sequential\n",
    "from keras.layers import Dense\n",
    "model = Sequential()\n",
    "\n",
    "# model.add(Dense(5, input_dim = 1))\n",
    "model.add(Dense(5, input_shape = (1, )))\n",
    "model.add(Dense(2))\n",
    "model.add(Dense(3))\n",
    "model.add(Dense(1))"
   ]
  },
  {
   "cell_type": "code",
   "execution_count": null,
   "metadata": {},
   "outputs": [],
   "source": [
    "#3. 훈련\n",
    "model.compile(loss='mse', optimizer='adam', metrics=['mae'])    # mse, mae\n",
    "model.fit(x_train, y_train, epochs=100, batch_size=1, validation_data=(x_val, y_val))"
   ]
  },
  {
   "cell_type": "code",
   "execution_count": null,
   "metadata": {},
   "outputs": [],
   "source": [
    "#4. 평가예측\n",
    "loss, mae = model.evaluate(x_test, y_test, batch_size=1)\n",
    "print('mae : ', mae)\n"
   ]
  },
  {
   "cell_type": "code",
   "execution_count": null,
   "metadata": {},
   "outputs": [],
   "source": [
    "x_prd=np.array([11, 12, 13])\n",
    "aaa=model.predict(x_prd, batch_size=1)\n",
    "print(aaa)\n"
   ]
  },
  {
   "cell_type": "code",
   "execution_count": null,
   "metadata": {},
   "outputs": [],
   "source": []
  },
  {
   "cell_type": "code",
   "execution_count": null,
   "metadata": {},
   "outputs": [],
   "source": []
  },
  {
   "cell_type": "code",
   "execution_count": null,
   "metadata": {},
   "outputs": [],
   "source": []
  }
 ],
 "metadata": {
  "kernelspec": {
   "display_name": "Python 3",
   "language": "python",
   "name": "python3"
  },
  "language_info": {
   "codemirror_mode": {
    "name": "ipython",
    "version": 3
   },
   "file_extension": ".py",
   "mimetype": "text/x-python",
   "name": "python",
   "nbconvert_exporter": "python",
   "pygments_lexer": "ipython3",
   "version": "3.7.6"
  }
 },
 "nbformat": 4,
 "nbformat_minor": 2
}
